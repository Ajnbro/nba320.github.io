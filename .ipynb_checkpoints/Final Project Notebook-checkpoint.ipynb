{
 "cells": [
  {
   "attachments": {},
   "cell_type": "markdown",
   "metadata": {},
   "source": [
    "<center>\n",
    "<p>Insert image related to project here</p>\n",
    "<h1 style=\"font-size:50px\">Insert Project Name Here</h1>\n",
    "<h4 style=\"font-size:20px\">Mary Hood, Manpreet Sidhu, Alex Rothman</h4>\n",
    "<hr>\n",
    "</center>\n",
    "\n"
   ]
  },
  {
   "cell_type": "code",
   "execution_count": 5,
   "metadata": {},
   "outputs": [],
   "source": [
    "# Import any necessary libraries\n",
    "import pandas as pd\n",
    "import numpy as np\n",
    "import matplotlib.pyplot as plt\n",
    "import seaborn as sns\n",
    "# More will be added as we go"
   ]
  },
  {
   "cell_type": "markdown",
   "metadata": {},
   "source": [
    "<p>\n",
    "This is kind of a general outline for what we will need to do. We have plenty of flexibility with this project, so this not end up being exactly what we do.\n",
    "    \n",
    "Getting Started With The Data:\n",
    "- Required Libraries\n",
    "- Data source\n",
    "- Reading the data\n",
    "- Tidying Data / Data Modification    \n",
    "    \n",
    "Exploratory Data Analysis/Data Visualization:\n",
    "- Graphing a bunch of different things and discussing those graphs\n",
    "- Finding other important / interesting stats\n",
    "\n",
    "Machine Learning stuff:\n",
    "- Hypothesis/Hypotheses\n",
    "- Linear Regression\n",
    "- Regression w/ OLS\n",
    "- Predictions\n",
    "</p>\n"
   ]
  },
  {
   "cell_type": "code",
   "execution_count": null,
   "metadata": {},
   "outputs": [],
   "source": []
  },
  {
   "cell_type": "code",
   "execution_count": null,
   "metadata": {},
   "outputs": [],
   "source": []
  },
  {
   "cell_type": "code",
   "execution_count": null,
   "metadata": {},
   "outputs": [],
   "source": []
  },
  {
   "cell_type": "code",
   "execution_count": null,
   "metadata": {},
   "outputs": [],
   "source": []
  }
 ],
 "metadata": {
  "kernelspec": {
   "display_name": "Python 3",
   "language": "python",
   "name": "python3"
  },
  "language_info": {
   "codemirror_mode": {
    "name": "ipython",
    "version": 3
   },
   "file_extension": ".py",
   "mimetype": "text/x-python",
   "name": "python",
   "nbconvert_exporter": "python",
   "pygments_lexer": "ipython3",
   "version": "3.7.3"
  }
 },
 "nbformat": 4,
 "nbformat_minor": 2
}
